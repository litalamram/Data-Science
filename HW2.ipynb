{
 "cells": [
  {
   "cell_type": "markdown",
   "metadata": {},
   "source": [
    "# Question 1"
   ]
  },
  {
   "cell_type": "markdown",
   "metadata": {},
   "source": [
    "a) Download the \"Boston1.csv\" database, and explore the data. Explanation about the dataset can be found here: http://www.clemson.edu/economics/faculty/wilson/R-tutorial/analyzing_data.html\n",
    "\n",
    "Find the columns with missing values and filter them out of the data."
   ]
  },
  {
   "cell_type": "code",
   "execution_count": 10,
   "metadata": {},
   "outputs": [
    {
     "name": "stdout",
     "output_type": "stream",
     "text": [
      "Columns with missing values:\n",
      "misData\n"
     ]
    }
   ],
   "source": [
    "import pandas as pd\n",
    "import numpy as np\n",
    "from IPython.display import display\n",
    "\n",
    "df = pd.read_csv(\"Boston1.csv\")\n",
    "\n",
    "print(\"Columns with missing values:\")\n",
    "res = pd.isnull(df).sum()\n",
    "for key,value in res.iteritems():\n",
    "    if (value > 0):\n",
    "        print(key)\n",
    "# Filter that columns out of the data.\n",
    "df = df.dropna(axis = 1, how ='any')"
   ]
  },
  {
   "cell_type": "markdown",
   "metadata": {},
   "source": [
    "b) Divide the filtered data randomly into a train set (70% of the data) and test set (30% of the data)."
   ]
  },
  {
   "cell_type": "code",
   "execution_count": 11,
   "metadata": {},
   "outputs": [],
   "source": [
    "train = df.sample(frac=0.7)\n",
    "test = df.drop(train.index)"
   ]
  },
  {
   "cell_type": "markdown",
   "metadata": {},
   "source": [
    "# Question 2"
   ]
  },
  {
   "cell_type": "markdown",
   "metadata": {},
   "source": [
    "If you haven't done this previously, install the scikit-learn package for python.\n",
    "\n",
    "a) On the train set, run a linear regression model as follows:\n",
    "Divide the training set into explanatory variables (the X matrix with which we'll try to make a prediction) and a target variable (y, the value which we'll try to predict). Use the 'medv' attribute as the target variable y and the rest of the features as the X matrix. Run a linear regression model on those sets, and print the regression coefficients. "
   ]
  },
  {
   "cell_type": "code",
   "execution_count": 3,
   "metadata": {},
   "outputs": [
    {
     "name": "stdout",
     "output_type": "stream",
     "text": [
      "Regression coefficients by attribute:\n",
      "crim : -0.08198171559399449\n",
      "zn : 0.03617654484314045\n",
      "indus : -0.013114399033058973\n",
      "chas : 2.452851447427105\n",
      "nox : -18.717773959723512\n",
      "rm : 4.45013348860549\n",
      "age : -0.008707851666307099\n",
      "dis : -1.648747007843591\n",
      "rad : 0.21601646087013027\n",
      "tax : -0.00956999173345296\n",
      "ptratio : -1.0153924636202987\n",
      "black : 0.009839806088108282\n",
      "lstat : -0.5094595889536119\n",
      "randCol : 0.976633863163581\n"
     ]
    }
   ],
   "source": [
    "from IPython.display import display\n",
    "import matplotlib as mpl\n",
    "from sklearn.linear_model import LinearRegression\n",
    "\n",
    "model = LinearRegression()\n",
    "train_x = train.drop(['medv'],axis=1)\n",
    "train_y = train['medv']\n",
    "model.fit(train_x,train_y)\n",
    "\n",
    "i=0;\n",
    "print(\"Regression coefficients by attribute:\")\n",
    "for col_lab in train_x.axes[1]:\n",
    "    print(col_lab,\":\",model.coef_[i])\n",
    "    i+=1"
   ]
  },
  {
   "cell_type": "markdown",
   "metadata": {},
   "source": [
    "b) Use the linear regression model to predict the values of the test set's 'medv' column, based on the test set's other attributes. Print the Mean Squared Error of the model on the train set and on the test set.\n",
    "Usually, the MSE on the train set would be lower than the MSE on the test set, since the model parameters are optimized with respect to the train set. Must this always be the case? Can you think of a few examples for when this might not be the case?"
   ]
  },
  {
   "cell_type": "code",
   "execution_count": 4,
   "metadata": {},
   "outputs": [
    {
     "name": "stdout",
     "output_type": "stream",
     "text": [
      "Train set MSE: 20.880763213595742\n",
      "Test set MSE: 25.900584529128515\n"
     ]
    }
   ],
   "source": [
    "from sklearn.metrics import mean_squared_error as mse\n",
    "\n",
    "test_x = test.drop(['medv'],axis=1)\n",
    "test_y = test['medv']\n",
    "\n",
    "predicted_y_train = model.predict(train_x)\n",
    "predicted_y_test = model.predict(test_x)\n",
    "print(\"Train set MSE:\",mse(predicted_y_train, train_y))\n",
    "print(\"Test set MSE:\",mse(predicted_y_test, test_y))"
   ]
  },
  {
   "cell_type": "markdown",
   "metadata": {},
   "source": [
    "An example in which the MSE on the test set may be lower than the MSE on the train set is when we have different groups and each of them has perfect linear correlation, but each has different coefficient. Let's say we have 3 different groups as stated, with matching coefficients - n, m, l - and n < m < l. We can pick our test set to include samples mostly from the group with coefficient n the predicted attribute will be closer to the linear model than the predicted attribute of samples from the group with coefficient m. So that will create a test set with a lower MSE than the one on the train set, which will be more scattered."
   ]
  },
  {
   "cell_type": "markdown",
   "metadata": {},
   "source": [
    "c) Add some noise (with mean=0, std=1) to the test set's y, and predict it again. What happened to the MSE? Why?"
   ]
  },
  {
   "cell_type": "code",
   "execution_count": 9,
   "metadata": {},
   "outputs": [
    {
     "name": "stdout",
     "output_type": "stream",
     "text": [
      "Test set MSE: 26.10444866946172\n"
     ]
    }
   ],
   "source": [
    "noise = np.random.normal(0, 1, len(test_y.index))\n",
    "noised_test_y = test_y + noise\n",
    "print(\"Test set MSE:\",mse(predicted_y_test, noised_test_y))"
   ]
  },
  {
   "cell_type": "markdown",
   "metadata": {},
   "source": [
    "The MSE slightly changed but is still very close to the original MSE, because the noise distribution is normal, and it is added to the real y values that are also normally distributed, and so the result is a normal distribution with slightly higher sd and the same expectance.Some y values got a little closer to the model and others moved farther but all in all they maintained their over all distance from the model."
   ]
  },
  {
   "cell_type": "markdown",
   "metadata": {
    "collapsed": true
   },
   "source": [
    "# Question 3"
   ]
  },
  {
   "cell_type": "markdown",
   "metadata": {},
   "source": [
    "a) Create a Recursive feature elimination model, with a linear regression estimator, that selects half of the original number of features. Hint: Check the feature_selection module in scikit-learn."
   ]
  },
  {
   "cell_type": "code",
   "execution_count": 12,
   "metadata": {},
   "outputs": [],
   "source": [
    "from sklearn.feature_selection import RFE\n",
    "from sklearn.linear_model import LinearRegression\n",
    "\n",
    "mdl = LinearRegression()\n",
    "\n",
    "rfe = RFE(mdl)"
   ]
  },
  {
   "cell_type": "markdown",
   "metadata": {},
   "source": [
    "b) Use the feature elimination model on the full database (after filtering columns with missing values, before partitioning into train/test). Print the features that were selected. Remember that we separate the 'medv' attribute to be our y, while the rest of the attributes in the dataset serve as features to learn from."
   ]
  },
  {
   "cell_type": "code",
   "execution_count": 13,
   "metadata": {},
   "outputs": [
    {
     "name": "stdout",
     "output_type": "stream",
     "text": [
      "The selected features are:\n",
      "['chas' 'nox' 'rm' 'dis' 'ptratio' 'lstat' 'randCol']\n"
     ]
    }
   ],
   "source": [
    "X = df.drop(['medv'],axis=1)\n",
    "y = df['medv']\n",
    "selected_model = rfe.fit(X,y)\n",
    "print(\"The selected features are:\")\n",
    "print(X.columns[selected_model.support_].get_values())"
   ]
  },
  {
   "cell_type": "markdown",
   "metadata": {},
   "source": [
    "c) We'd like to find out the optimal number of features. Create feature elimination models (with linear regression estimators) for every number of features between 1 and n (where n = all the original features, 'medv' excluded). For each number of features, run a linear regression as in Question 2, only on the selected features, in order to predict 'medv'. Print the Mean Sqaured Error for each number of features."
   ]
  },
  {
   "cell_type": "code",
   "execution_count": 14,
   "metadata": {},
   "outputs": [
    {
     "name": "stdout",
     "output_type": "stream",
     "text": [
      " 1 fetures:\n",
      "train: 76.5877949125\n",
      "test: 51.4411998183\n",
      " 2 fetures:\n",
      "train: 41.4403565693\n",
      "test: 34.4612429806\n",
      " 3 fetures:\n",
      "train: 39.6357193597\n",
      "test: 33.0075951287\n",
      " 4 fetures:\n",
      "train: 34.3266560362\n",
      "test: 28.364876106\n",
      " 5 fetures:\n",
      "train: 32.6223876102\n",
      "test: 27.2033576978\n",
      " 6 fetures:\n",
      "train: 24.5881631221\n",
      "test: 22.9027593296\n",
      " 7 fetures:\n",
      "train: 24.5672716765\n",
      "test: 23.0962812508\n",
      " 8 fetures:\n",
      "train: 24.2949300049\n",
      "test: 23.4801528731\n",
      " 9 fetures:\n",
      "train: 23.6589585851\n",
      "test: 23.2363568002\n",
      " 10 fetures:\n",
      "train: 23.6067420312\n",
      "test: 23.0740303016\n",
      " 11 fetures:\n",
      "train: 23.4166879586\n",
      "test: 24.2964944199\n",
      " 12 fetures:\n",
      "train: 23.2658178969\n",
      "test: 23.7001551875\n",
      " 13 fetures:\n",
      "train: 22.7784912694\n",
      "test: 23.1457693268\n",
      " 14 fetures:\n",
      "train: 22.1870327015\n",
      "test: 22.7770007576\n"
     ]
    }
   ],
   "source": [
    "from sklearn.metrics import mean_squared_error as mse\n",
    "\n",
    "res_mse = (df.shape[1]-1) * [(0,0)] \n",
    "train_x = train.drop(['medv'],axis=1)\n",
    "train_y = train['medv']\n",
    "test_x = test.drop(['medv'],axis=1)\n",
    "test_y = test['medv']\n",
    "\n",
    "for i in range(1, df.shape[1]):\n",
    "    rfe3 = RFE(mdl, n_features_to_select= i)\n",
    "    exe = rfe3.fit(train_x,train_y)\n",
    "    x_train_c = train[train_x.columns[exe.support_]]\n",
    "    x_test_c = test[train_x.columns[exe.support_]]\n",
    "    mdl.fit(x_train_c, train_y)\n",
    "    res_mse[i-1] = (mse(mdl.predict(x_train_c), train_y), mse(mdl.predict( x_test_c), test_y)) \n",
    "    print(\" {} fetures:\".format(i))\n",
    "    print(\"train: {}\".format(res_mse[i-1][0]))\n",
    "    print(\"test: {}\".format(res_mse[i-1][1]))\n"
   ]
  },
  {
   "cell_type": "markdown",
   "metadata": {},
   "source": [
    "d) Conclude the optimal number of features for this task. Think about the cost of adding for data vs the benefit of a more accurate prediction. Explain your answer."
   ]
  },
  {
   "cell_type": "code",
   "execution_count": 15,
   "metadata": {},
   "outputs": [
    {
     "data": {
      "image/png": "[encoded data removed]",
      "text/plain": [
       "<Figure size 432x288 with 1 Axes>"
      ]
     },
     "metadata": {
      "needs_background": "light"
     },
     "output_type": "display_data"
    }
   ],
   "source": [
    "import matplotlib.pyplot as plt\n",
    "\n",
    "# x is the nubmer of fetures and y is the value of the MSE.\n",
    "li = list(range(1,15))\n",
    "mse_train = [val[0] for val in res_mse]\n",
    "mse_test = [val[1] for val in res_mse]\n",
    "plt.plot(li,mse_train)\n",
    "plt.plot(li,mse_test)\n",
    "plt.title(\"MSE as a function of features:\")\n",
    "plt.show()"
   ]
  },
  {
   "cell_type": "markdown",
   "metadata": {},
   "source": [
    "The optimal number of features for this task is 6.\n",
    "The MSE of the train set and test set are close to each other when using 6 fetures.\n",
    "Using more features doesn't change much the MSE of the train and test sets.\n",
    "Therefore, consdering the question of cost of adding for data vs the benefit of a more accurate prediction, 6 features is the optimal number of fetures."
   ]
  },
  {
   "cell_type": "markdown",
   "metadata": {},
   "source": [
    "# Question 4"
   ]
  },
  {
   "cell_type": "markdown",
   "metadata": {},
   "source": [
    "Perform a cross-validation of the linear regression on the train set with K=5. Print the CV scores for each repeat."
   ]
  },
  {
   "cell_type": "code",
   "execution_count": 16,
   "metadata": {},
   "outputs": [
    {
     "name": "stdout",
     "output_type": "stream",
     "text": [
      "[0.70200515 0.71562545 0.78560346 0.71049576 0.73803187]\n"
     ]
    }
   ],
   "source": [
    "from sklearn.model_selection import cross_val_score\n",
    "\n",
    "print(cross_val_score(mdl, train_x, train_y, cv=5))"
   ]
  }
 ],
 "metadata": {
  "anaconda-cloud": {},
  "kernelspec": {
   "display_name": "Python 2",
   "language": "python",
   "name": "python2"
  },
  "language_info": {
   "codemirror_mode": {
    "name": "ipython",
    "version": 2
   },
   "file_extension": ".py",
   "mimetype": "text/x-python",
   "name": "python",
   "nbconvert_exporter": "python",
   "pygments_lexer": "ipython2",
   "version": "2.7.15"
  }
 },
 "nbformat": 4,
 "nbformat_minor": 2
}
